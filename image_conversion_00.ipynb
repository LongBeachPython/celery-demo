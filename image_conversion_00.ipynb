{
 "cells": [
  {
   "cell_type": "markdown",
   "metadata": {},
   "source": [
    "# ASCII Art from an Image (Part 0)"
   ]
  },
  {
   "cell_type": "markdown",
   "metadata": {},
   "source": [
    "Steps before running:\n",
    "- Make sure to run:\n",
    "    - dynamo (```run_dynamo.sh```)\n",
    "    - jupyter notebook (load ```celery_trial``` venv, run ```jupyter notebook``` in ```celery_trial``` folder)\n",
    "    - flower (```flower -A proj --port=5555```)\n"
   ]
  },
  {
   "cell_type": "markdown",
   "metadata": {
    "collapsed": true
   },
   "source": [
    "Steps involved:\n",
    "- [>> ASCII Art](image_conversion_01.ipynb)\n",
    "- [>> Task Queuing](image_conversion_02.ipynb)\n",
    "- [>> Flower](image_conversion_bonus_flower.ipynb)\n",
    "- [>> DynamoDB](image_conversion_bonus_dynamodb.ipynb)\n"
   ]
  }
 ],
 "metadata": {
  "kernelspec": {
   "display_name": "Python 3",
   "language": "python",
   "name": "python3"
  },
  "language_info": {
   "codemirror_mode": {
    "name": "ipython",
    "version": 3
   },
   "file_extension": ".py",
   "mimetype": "text/x-python",
   "name": "python",
   "nbconvert_exporter": "python",
   "pygments_lexer": "ipython3",
   "version": "3.5.2"
  }
 },
 "nbformat": 4,
 "nbformat_minor": 1
}
