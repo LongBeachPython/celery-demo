{
 "cells": [
  {
   "cell_type": "markdown",
   "metadata": {},
   "source": [
    "# ASCII Art from an Image (Bonus: DynamoDB)"
   ]
  },
  {
   "cell_type": "markdown",
   "metadata": {},
   "source": [
    "## DynamoDB: Amazon's AWS NoSQL database\n",
    "Learn more about installing DynamoDB locally here: [Running DynamoDB on Your Computer](http://docs.aws.amazon.com/amazondynamodb/latest/developerguide/DynamoDBLocal.html)\n",
    "\n",
    "**To launch the local database:** ```java -Djava.library.path=./DynamoDBLocal_lib -jar DynamoDBLocal.jar -sharedDb```"
   ]
  },
  {
   "cell_type": "markdown",
   "metadata": {},
   "source": [
    "### We'll use PynamoDB package, which is an ORM-like for DynamoDB"
   ]
  },
  {
   "cell_type": "code",
   "execution_count": null,
   "metadata": {
    "collapsed": true
   },
   "outputs": [],
   "source": [
    "from proj.models import AsciiTask\n",
    "AsciiTask.delete_table()\n",
    "AsciiTask.create_table(read_capacity_units=1, write_capacity_units=1)"
   ]
  },
  {
   "cell_type": "markdown",
   "metadata": {},
   "source": [
    "Open the DynamoDB shell: [Link](http://localhost:8000/shell)\n",
    "\n",
    "```Execute``` the following script:\n",
    "\n",
    "<pre>var params = {\n",
    "    TableName: \"dynamodb-ascii-tasks\"\n",
    "};\n",
    "\n",
    "docClient.scan(params, function(err, data) {\n",
    "    if (err)\n",
    "        console.log(JSON.stringify(err, null, 2));\n",
    "    else\n",
    "        console.log(JSON.stringify(data, null, 2));\n",
    "        console.log('Count of records: ' + JSON.stringify(data.Count, null, 2));\n",
    "});</pre>\n",
    "\n",
    "---"
   ]
  },
  {
   "cell_type": "markdown",
   "metadata": {},
   "source": [
    "## A couple helper functions\n",
    "Note that there is an **improved** ```image_to_ascii_task``` wrapper"
   ]
  },
  {
   "cell_type": "code",
   "execution_count": null,
   "metadata": {
    "collapsed": true
   },
   "outputs": [],
   "source": [
    "from proj.tasks.ascii import image_to_ascii_task_improved  # Note: this is slightly improved\n",
    "from proj.helpers import print_ascii_html, display_progress_bar_until_completed"
   ]
  },
  {
   "cell_type": "code",
   "execution_count": null,
   "metadata": {
    "collapsed": true
   },
   "outputs": [],
   "source": [
    "def queue_and_return_ascii_task(filename, columns):\n",
    "    task = image_to_ascii_task_improved.apply_async(args=[filename, columns])\n",
    "    return image_to_ascii_task_improved.AsyncResult(task.id)    "
   ]
  },
  {
   "cell_type": "markdown",
   "metadata": {},
   "source": [
    "## Queue all the things!"
   ]
  },
  {
   "cell_type": "code",
   "execution_count": null,
   "metadata": {
    "collapsed": false
   },
   "outputs": [],
   "source": [
    "images = [\n",
    "    dict(image_uri='samples/images/cat01.jpg', columns=400),\n",
    "    dict(image_uri='samples/images/cat02.jpg', columns=400),\n",
    "    dict(image_uri='samples/images/cat03.jpg', columns=400),\n",
    "    dict(image_uri='samples/images/cat04.jpg', columns=400),\n",
    "    dict(image_uri='samples/images/cat05.jpg', columns=400),\n",
    "    dict(image_uri='samples/images/cat06.jpg', columns=400),\n",
    "    dict(image_uri='samples/images/cat07.jpg', columns=400),\n",
    "    dict(image_uri='samples/images/doom_xboxone_cover.jpg', columns=200),\n",
    "]\n",
    "\n",
    "tasks = []\n",
    "\n",
    "for image in images:\n",
    "    tasks.append(queue_and_return_ascii_task(image.get('image_uri'), image.get('columns')))"
   ]
  },
  {
   "cell_type": "markdown",
   "metadata": {},
   "source": [
    "## Wait until all items are done"
   ]
  },
  {
   "cell_type": "code",
   "execution_count": null,
   "metadata": {
    "collapsed": false
   },
   "outputs": [],
   "source": [
    "for task in tasks:\n",
    "    print(task)\n",
    "    display_progress_bar_until_completed(task)\n",
    "print(\"ALL DONE!\")"
   ]
  },
  {
   "cell_type": "markdown",
   "metadata": {},
   "source": [
    "## Load a random item from the database"
   ]
  },
  {
   "cell_type": "code",
   "execution_count": null,
   "metadata": {
    "collapsed": false
   },
   "outputs": [],
   "source": [
    "from random import choice\n",
    "ascii_tasks = list(AsciiTask.scan())\n",
    "task_choice = choice(ascii_tasks)\n",
    "print_ascii_html(task_choice.ascii_text, font_size_pct=15, line_height_pct=100)"
   ]
  },
  {
   "cell_type": "markdown",
   "metadata": {},
   "source": [
    "## Query DynamoDB to see there are three records"
   ]
  },
  {
   "cell_type": "code",
   "execution_count": null,
   "metadata": {
    "collapsed": false
   },
   "outputs": [],
   "source": [
    "AsciiTask.count()"
   ]
  },
  {
   "cell_type": "markdown",
   "metadata": {
    "collapsed": true
   },
   "source": [
    "## Load the DynamoDB shell again:\n",
    "\n",
    "Open the DynamoDB shell: [Link](http://localhost:8000/shell)\n",
    "\n",
    "```Execute``` the following script:\n",
    "\n",
    "<pre>var params = {\n",
    "    TableName: \"dynamodb-ascii-tasks\"\n",
    "};\n",
    "\n",
    "docClient.scan(params, function(err, data) {\n",
    "    if (err)\n",
    "        console.log(JSON.stringify(err, null, 2));\n",
    "    else\n",
    "        console.log(JSON.stringify(data, null, 2));\n",
    "        console.log('Count of records: ' + JSON.stringify(data.Count, null, 2));\n",
    "});</pre>\n",
    "\n",
    "\n",
    "## Notice that there are now 3 items stored in the database\n",
    "\n",
    "---"
   ]
  },
  {
   "cell_type": "markdown",
   "metadata": {},
   "source": [
    "## Now print all items in the database"
   ]
  },
  {
   "cell_type": "code",
   "execution_count": null,
   "metadata": {
    "collapsed": false
   },
   "outputs": [],
   "source": [
    "for ascii_task in AsciiTask.scan():\n",
    "    print(ascii_task.task_id)\n",
    "    print_ascii_html(ascii_task.ascii_text, font_size_pct=15, line_height_pct=100)"
   ]
  }
 ],
 "metadata": {
  "kernelspec": {
   "display_name": "Python 3",
   "language": "python",
   "name": "python3"
  },
  "language_info": {
   "codemirror_mode": {
    "name": "ipython",
    "version": 3
   },
   "file_extension": ".py",
   "mimetype": "text/x-python",
   "name": "python",
   "nbconvert_exporter": "python",
   "pygments_lexer": "ipython3",
   "version": "3.5.2"
  }
 },
 "nbformat": 4,
 "nbformat_minor": 1
}
