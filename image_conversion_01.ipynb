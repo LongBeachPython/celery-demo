{
 "cells": [
  {
   "cell_type": "markdown",
   "metadata": {},
   "source": [
    "# ASCII Art from an Image (Part 1)"
   ]
  },
  {
   "cell_type": "markdown",
   "metadata": {},
   "source": [
    "### Let's make some ASCII Art"
   ]
  },
  {
   "cell_type": "code",
   "execution_count": null,
   "metadata": {
    "collapsed": false
   },
   "outputs": [],
   "source": [
    "# Helper function for printing ASCII in Jupyter notebook\n",
    "from IPython.display import display, HTML\n",
    "def print_ascii_html(ascii_text, font_size_pct=60, line_height_pct=80):\n",
    "    ascii_html = ('<pre style=\"font-size:{font_size_pct}%; line-height:{line_height_pct}%;\">'\n",
    "                  '{ascii_text}</pre>'.format(font_size_pct=font_size_pct, \n",
    "                                              line_height_pct=line_height_pct, \n",
    "                                              ascii_text=ascii_text))\n",
    "    chart = HTML(ascii_html)\n",
    "    display(chart)"
   ]
  },
  {
   "cell_type": "code",
   "execution_count": null,
   "metadata": {
    "collapsed": false
   },
   "outputs": [],
   "source": [
    "# sample ASCII art\n",
    "with open('samples/ascii/computer.txt', 'rt') as f:\n",
    "    ascii_text = f.read()\n",
    "print_ascii_html(ascii_text)"
   ]
  },
  {
   "cell_type": "markdown",
   "metadata": {},
   "source": [
    "### Obligatory cute cat picture"
   ]
  },
  {
   "cell_type": "code",
   "execution_count": null,
   "metadata": {
    "collapsed": false
   },
   "outputs": [],
   "source": [
    "from IPython.display import display, Image\n",
    "display(Image('samples/images/cat01.jpg'))"
   ]
  },
  {
   "cell_type": "markdown",
   "metadata": {},
   "source": [
    "## Let's convert it to ASCII"
   ]
  },
  {
   "cell_type": "markdown",
   "metadata": {},
   "source": [
    "### Convert to ASCII by chopping the cat into pieces\n",
    "### Note: this algorithm has O(N<sup>2</sup>) complexity: rows x columns pieces"
   ]
  },
  {
   "cell_type": "code",
   "execution_count": null,
   "metadata": {
    "collapsed": true
   },
   "outputs": [],
   "source": [
    "# modified version of code from Python Playground (No Starch Press)\n",
    "import numpy as np\n",
    "from PIL import Image\n",
    "\n",
    "GRAY_SCALE = '@%#*+=-:. '\n",
    "\n",
    "def image_to_ascii(filename, column_count, scale=0.43):\n",
    "    # load the image and calculate dimensions\n",
    "    image = Image.open(filename).convert('L')\n",
    "    image_width, image_height = image.size\n",
    "    output_width = image_width / column_count\n",
    "    output_height = output_width / scale\n",
    "    row_count = int(image_height / output_height)    \n",
    "    if column_count > image_width or row_count > image_height:\n",
    "        raise Exception(\"Image too small for specified cols!\")\n",
    "\n",
    "    # create the ascii image\n",
    "    ascii_image = []\n",
    "    for row_counter in range(row_count):\n",
    "        y1 = int(row_counter * output_height)\n",
    "        y2 = int((row_counter + 1) * output_height)\n",
    "        if row_counter == row_count - 1:\n",
    "            y2 = image_height\n",
    "        ascii_image.append(\"\")\n",
    "        for i in range(column_count):\n",
    "            # crop image to extract tile\n",
    "            x1 = int(i * output_width)\n",
    "            x2 = int((i + 1) * output_width)\n",
    "            if i == column_count - 1:\n",
    "                x2 = image_width\n",
    "            img = image.crop((x1, y1, x2, y2))\n",
    "\n",
    "            # get average luminance\n",
    "            im = np.array(img)\n",
    "            im_width, im_height = im.shape\n",
    "            avg = np.average(im.reshape(im_width * im_height))\n",
    "\n",
    "            # look up ascii char\n",
    "            gray_scale_value = GRAY_SCALE[int((avg * 9) / 255)]\n",
    "\n",
    "            # append ascii char to string\n",
    "            ascii_image[row_counter] += gray_scale_value\n",
    "            \n",
    "    return ascii_image"
   ]
  },
  {
   "cell_type": "markdown",
   "metadata": {},
   "source": [
    "#### Simple wrapper function"
   ]
  },
  {
   "cell_type": "code",
   "execution_count": null,
   "metadata": {
    "collapsed": true
   },
   "outputs": [],
   "source": [
    "def get_ascii_version_of_image(filename, columns):\n",
    "    ascii_image = image_to_ascii(image_filename, column_count)\n",
    "    return '\\n'.join(line for line in ascii_image)"
   ]
  },
  {
   "cell_type": "markdown",
   "metadata": {},
   "source": [
    "#### A low-resolution example (columns = 100)"
   ]
  },
  {
   "cell_type": "code",
   "execution_count": null,
   "metadata": {
    "collapsed": false
   },
   "outputs": [],
   "source": [
    "%%time\n",
    "image_filename = 'samples/images/cat01.jpg'\n",
    "column_count = 100\n",
    "ascii_image_text = get_ascii_version_of_image(image_filename, column_count)\n",
    "print_ascii_html(ascii_image_text, font_size_pct=60, line_height_pct=100)"
   ]
  },
  {
   "cell_type": "markdown",
   "metadata": {},
   "source": [
    "#### Let's make the resolution a little better (columns = 200)"
   ]
  },
  {
   "cell_type": "code",
   "execution_count": null,
   "metadata": {
    "collapsed": false
   },
   "outputs": [],
   "source": [
    "%%time\n",
    "image_filename = 'samples/images/cat01.jpg'\n",
    "column_count = 200\n",
    "ascii_image_text = get_ascii_version_of_image(image_filename, column_count)\n",
    "print_ascii_html(ascii_image_text, font_size_pct=30, line_height_pct=100)"
   ]
  },
  {
   "cell_type": "markdown",
   "metadata": {},
   "source": [
    "#### Let's keep going (columns = 400)"
   ]
  },
  {
   "cell_type": "code",
   "execution_count": null,
   "metadata": {
    "collapsed": false
   },
   "outputs": [],
   "source": [
    "%%time\n",
    "image_filename = 'samples/images/cat01.jpg'\n",
    "column_count = 400\n",
    "ascii_image_text = get_ascii_version_of_image(image_filename, column_count)\n",
    "print_ascii_html(ascii_image_text, font_size_pct=30, line_height_pct=100)"
   ]
  },
  {
   "cell_type": "markdown",
   "metadata": {},
   "source": [
    "#### The better the quality gets, the longer it takes (columns = 800)"
   ]
  },
  {
   "cell_type": "code",
   "execution_count": null,
   "metadata": {
    "collapsed": false,
    "scrolled": true
   },
   "outputs": [],
   "source": [
    "%%time\n",
    "image_filename = 'samples/images/cat01.jpg'\n",
    "column_count = 800\n",
    "ascii_image_text = get_ascii_version_of_image(image_filename, column_count)\n",
    "print_ascii_html(ascii_image_text, font_size_pct=15, line_height_pct=100)"
   ]
  },
  {
   "cell_type": "markdown",
   "metadata": {},
   "source": [
    "#### To the point where real-time analysis is slow (columns = 1600)"
   ]
  },
  {
   "cell_type": "code",
   "execution_count": null,
   "metadata": {
    "collapsed": false
   },
   "outputs": [],
   "source": [
    "%%time\n",
    "image_filename = 'samples/images/cat01.jpg'\n",
    "column_count = 1600\n",
    "ascii_image_text = get_ascii_version_of_image(image_filename, column_count)\n",
    "print_ascii_html(ascii_image_text, font_size_pct=10, line_height_pct=100)"
   ]
  },
  {
   "cell_type": "markdown",
   "metadata": {},
   "source": [
    "#### Now see how long it takes to run each resolution"
   ]
  },
  {
   "cell_type": "code",
   "execution_count": null,
   "metadata": {
    "collapsed": false
   },
   "outputs": [],
   "source": [
    "%%time\n",
    "image_filename = 'samples/images/cat01.jpg'\n",
    "%time ascii_image = image_to_ascii(image_filename, 100)\n",
    "%time ascii_image = image_to_ascii(image_filename, 200)\n",
    "%time ascii_image = image_to_ascii(image_filename, 400)\n",
    "%time ascii_image = image_to_ascii(image_filename, 800)\n",
    "%time ascii_image = image_to_ascii(image_filename, 1600)\n",
    "print('total time')"
   ]
  },
  {
   "cell_type": "markdown",
   "metadata": {},
   "source": [
    "### As the number of columns doubles (e.g. 800 to 1600), run-time nearly quadruples: O(N<sup>2</sup>).\n",
    "---\n",
    "### Maybe there is a better algorithm, but maybe there's not or you need the results ASAP\n",
    "[>> Task Queuing](image_conversion_02.ipynb)"
   ]
  }
 ],
 "metadata": {
  "kernelspec": {
   "display_name": "Python 3",
   "language": "python",
   "name": "python3"
  },
  "language_info": {
   "codemirror_mode": {
    "name": "ipython",
    "version": 3
   },
   "file_extension": ".py",
   "mimetype": "text/x-python",
   "name": "python",
   "nbconvert_exporter": "python",
   "pygments_lexer": "ipython3",
   "version": "3.5.2"
  }
 },
 "nbformat": 4,
 "nbformat_minor": 1
}
