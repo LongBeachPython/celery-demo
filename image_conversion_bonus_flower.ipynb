{
 "cells": [
  {
   "cell_type": "markdown",
   "metadata": {},
   "source": [
    "# ASCII Art from an Image (Bonus: Flower)"
   ]
  },
  {
   "cell_type": "markdown",
   "metadata": {},
   "source": [
    "## Flower: task monitor\n",
    "Learn more about installing Flower here: [Flower Installation](http://flower.readthedocs.io/en/latest/install.html)\n",
    "\n",
    "**To run the task monitor call:** ```flower -A proj --port=5555```\n",
    "\n",
    "Open the Flower monitor: [Link](http://localhost:5555)\n",
    "\n",
    "---"
   ]
  },
  {
   "cell_type": "markdown",
   "metadata": {},
   "source": [
    "## A couple helper functions"
   ]
  },
  {
   "cell_type": "code",
   "execution_count": null,
   "metadata": {
    "collapsed": true
   },
   "outputs": [],
   "source": [
    "from proj.tasks.ascii import image_to_ascii_task\n",
    "from proj.helpers import print_ascii_html, display_progress_bar_until_completed"
   ]
  },
  {
   "cell_type": "code",
   "execution_count": null,
   "metadata": {
    "collapsed": true
   },
   "outputs": [],
   "source": [
    "def queue_and_return_ascii_task(filename, columns):\n",
    "    task = image_to_ascii_task.apply_async(args=[filename, columns])\n",
    "    return image_to_ascii_task.AsyncResult(task.id)    "
   ]
  },
  {
   "cell_type": "code",
   "execution_count": null,
   "metadata": {
    "collapsed": true
   },
   "outputs": [],
   "source": [
    "def print_task_result(task):\n",
    "    ascii_image = task.info.get('result')\n",
    "    ascii_image_text = '\\n'.join(line for line in ascii_image)\n",
    "    print_ascii_html(ascii_image_text, font_size_pct=15, line_height_pct=100)"
   ]
  },
  {
   "cell_type": "markdown",
   "metadata": {},
   "source": [
    "## Queue all the things!"
   ]
  },
  {
   "cell_type": "code",
   "execution_count": null,
   "metadata": {
    "collapsed": true
   },
   "outputs": [],
   "source": [
    "images = [\n",
    "    dict(image_uri='samples/images/cat01.jpg', columns=800),\n",
    "    dict(image_uri='samples/images/cat02.jpg', columns=800),\n",
    "    dict(image_uri='samples/images/cat03.jpg', columns=800),\n",
    "    dict(image_uri='samples/images/cat04.jpg', columns=800),\n",
    "    dict(image_uri='samples/images/cat05.jpg', columns=800),\n",
    "    dict(image_uri='samples/images/cat06.jpg', columns=400),\n",
    "    dict(image_uri='samples/images/cat07.jpg', columns=400),\n",
    "    dict(image_uri='samples/images/doom_xboxone_cover.jpg', columns=200),\n",
    "]\n",
    "\n",
    "tasks = []\n",
    "\n",
    "for image in images:\n",
    "    tasks.append(queue_and_return_ascii_task(image.get('image_uri'), image.get('columns')))"
   ]
  },
  {
   "cell_type": "code",
   "execution_count": null,
   "metadata": {
    "collapsed": false
   },
   "outputs": [],
   "source": [
    "for task in tasks:\n",
    "    print(task)\n",
    "    display_progress_bar_until_completed(task)\n",
    "print(\"ALL DONE!\")"
   ]
  },
  {
   "cell_type": "markdown",
   "metadata": {},
   "source": [
    "## Look at all the results"
   ]
  },
  {
   "cell_type": "code",
   "execution_count": null,
   "metadata": {
    "collapsed": false
   },
   "outputs": [],
   "source": [
    "print_task_result(tasks[4])"
   ]
  },
  {
   "cell_type": "code",
   "execution_count": null,
   "metadata": {
    "collapsed": false
   },
   "outputs": [],
   "source": [
    "print_task_result(tasks[5])"
   ]
  },
  {
   "cell_type": "code",
   "execution_count": null,
   "metadata": {
    "collapsed": false
   },
   "outputs": [],
   "source": [
    "print_task_result(tasks[7])"
   ]
  },
  {
   "cell_type": "code",
   "execution_count": null,
   "metadata": {
    "collapsed": true
   },
   "outputs": [],
   "source": []
  }
 ],
 "metadata": {
  "kernelspec": {
   "display_name": "Python 3",
   "language": "python",
   "name": "python3"
  },
  "language_info": {
   "codemirror_mode": {
    "name": "ipython",
    "version": 3
   },
   "file_extension": ".py",
   "mimetype": "text/x-python",
   "name": "python",
   "nbconvert_exporter": "python",
   "pygments_lexer": "ipython3",
   "version": "3.5.2"
  }
 },
 "nbformat": 4,
 "nbformat_minor": 1
}
